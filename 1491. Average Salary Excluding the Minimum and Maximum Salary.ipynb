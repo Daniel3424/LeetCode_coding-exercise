{
 "cells": [
  {
   "cell_type": "markdown",
   "metadata": {},
   "source": [
    "## 1491. Average Salary Excluding the Minimum and Maximum Salary\n",
    "\n",
    "Given an array of unique integers salary where salary[i] is the salary of the employee i.\n",
    "\n",
    "Return the average salary of employees excluding the minimum and maximum salary.\n",
    "\n",
    " \n",
    "\n",
    "Example 1:\n",
    "```\n",
    "Input: salary = [4000,3000,1000,2000]\n",
    "Output: 2500.00000\n",
    "Explanation: Minimum salary and maximum salary are 1000 and 4000 respectively.\n",
    "Average salary excluding minimum and maximum salary is (2000+3000)/2= 2500\n",
    "```\n",
    "Example 2:\n",
    "```\n",
    "Input: salary = [1000,2000,3000]\n",
    "Output: 2000.00000\n",
    "Explanation: Minimum salary and maximum salary are 1000 and 3000 respectively.\n",
    "Average salary excluding minimum and maximum salary is (2000)/1= 2000\n",
    "```\n",
    "Example 3:\n",
    "```\n",
    "Input: salary = [6000,5000,4000,3000,2000,1000]\n",
    "Output: 3500.00000\n",
    "```\n",
    "Example 4:\n",
    "```\n",
    "Input: salary = [8000,9000,2000,3000,6000,1000]\n",
    "Output: 4750.00000\n",
    "``` \n",
    "\n",
    "Constraints:\n",
    "\n",
    "3 <= salary.length <= 100\n",
    "10^3 <= salary[i] <= 10^6\n",
    "salary[i] is unique.\n",
    "Answers within 10^-5 of the actual value will be accepted as correct."
   ]
  },
  {
   "cell_type": "code",
   "execution_count": null,
   "metadata": {},
   "outputs": [],
   "source": [
    "class Solution:\n",
    "    def average(self, salary: List[int]) -> float:\n",
    "        salary.sort()\n",
    "        return float(sum(salary[1:-1]))/float((len(salary)-2))"
   ]
  }
 ],
 "metadata": {
  "kernelspec": {
   "display_name": "Python 3",
   "language": "python",
   "name": "python3"
  },
  "language_info": {
   "codemirror_mode": {
    "name": "ipython",
    "version": 3
   },
   "file_extension": ".py",
   "mimetype": "text/x-python",
   "name": "python",
   "nbconvert_exporter": "python",
   "pygments_lexer": "ipython3",
   "version": "3.8.3"
  }
 },
 "nbformat": 4,
 "nbformat_minor": 4
}
