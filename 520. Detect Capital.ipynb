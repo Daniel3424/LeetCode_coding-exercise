{
 "cells": [
  {
   "cell_type": "markdown",
   "metadata": {},
   "source": [
    "## 520. Detect Capital\n",
    "\n",
    "Given a word, you need to judge whether the usage of capitals in it is right or not.\n",
    "\n",
    "We define the usage of capitals in a word to be right when one of the following cases holds:\n",
    "\n",
    "All letters in this word are capitals, like \"USA\".\n",
    "All letters in this word are not capitals, like \"leetcode\".\n",
    "Only the first letter in this word is capital, like \"Google\".\n",
    "Otherwise, we define that this word doesn't use capitals in a right way.\n",
    " \n",
    "\n",
    "Example 1:\n",
    "```\n",
    "Input: \"USA\"\n",
    "Output: True\n",
    "```\n",
    "\n",
    "Example 2:\n",
    "```\n",
    "Input: \"FlaG\"\n",
    "Output: False\n",
    "``` \n",
    "\n",
    "Note: The input will be a non-empty word consisting of uppercase and lowercase latin letters."
   ]
  },
  {
   "cell_type": "code",
   "execution_count": null,
   "metadata": {},
   "outputs": [],
   "source": [
    "class Solution:\n",
    "    def detectCapitalUse(self, word: str) -> bool:\n",
    "        j = 0 \n",
    "        for i in word:\n",
    "          if i == i.upper():\n",
    "            j += 1\n",
    "            \n",
    "        return j == len(word) or (j == 1 and word[0] == word[0].upper()) or j == 0"
   ]
  }
 ],
 "metadata": {
  "kernelspec": {
   "display_name": "Python 3",
   "language": "python",
   "name": "python3"
  },
  "language_info": {
   "codemirror_mode": {
    "name": "ipython",
    "version": 3
   },
   "file_extension": ".py",
   "mimetype": "text/x-python",
   "name": "python",
   "nbconvert_exporter": "python",
   "pygments_lexer": "ipython3",
   "version": "3.8.3"
  }
 },
 "nbformat": 4,
 "nbformat_minor": 4
}
