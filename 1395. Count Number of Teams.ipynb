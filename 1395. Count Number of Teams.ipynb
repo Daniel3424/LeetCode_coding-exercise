{
 "cells": [
  {
   "cell_type": "markdown",
   "metadata": {},
   "source": [
    "## 1395. Count Number of Teams\n",
    "\n",
    "There are n soldiers standing in a line. Each soldier is assigned a unique rating value.\n",
    "\n",
    "You have to form a team of 3 soldiers amongst them under the following rules:\n",
    "\n",
    "Choose 3 soldiers with index (i, j, k) with rating (rating[i], rating[j], rating[k]).\n",
    "A team is valid if:  (rating[i] < rating[j] < rating[k]) or (rating[i] > rating[j] > rating[k]) where (0 <= i < j < k < n).\n",
    "Return the number of teams you can form given the conditions. (soldiers can be part of multiple teams).\n",
    "\n",
    " \n",
    "\n",
    "Example 1:\n",
    "```\n",
    "Input: rating = [2,5,3,4,1]\n",
    "Output: 3\n",
    "Explanation: We can form three teams given the conditions. (2,3,4), (5,4,1), (5,3,1). \n",
    "```\n",
    "Example 2:\n",
    "```\n",
    "Input: rating = [2,1,3]\n",
    "Output: 0\n",
    "Explanation: We can't form any team given the conditions.\n",
    "```\n",
    "Example 3:\n",
    "```\n",
    "Input: rating = [1,2,3,4]\n",
    "Output: 4\n",
    "``` \n",
    "\n",
    "Constraints:\n",
    "\n",
    "n == rating.length\n",
    "1 <= n <= 200\n",
    "1 <= rating[i] <= 10^5"
   ]
  },
  {
   "cell_type": "code",
   "execution_count": null,
   "metadata": {},
   "outputs": [],
   "source": [
    "class Solution:\n",
    "    def numTeams(self, rating: List[int]) -> int:\n",
    "        n = len(rating)\n",
    "        cnt = 0\n",
    "        \n",
    "        for i in range(n-2):\n",
    "            for j in range(i+1, n-1):\n",
    "                for k in range(j+1, n):\n",
    "                    if rating[i] < rating[j]:\n",
    "                        if rating[j] < rating[k]:\n",
    "                            cnt += 1\n",
    "                    elif rating[i] > rating[j]:\n",
    "                        if rating[j] > rating[k]:\n",
    "                            cnt += 1\n",
    "        return cnt"
   ]
  }
 ],
 "metadata": {
  "kernelspec": {
   "display_name": "Python 3",
   "language": "python",
   "name": "python3"
  },
  "language_info": {
   "codemirror_mode": {
    "name": "ipython",
    "version": 3
   },
   "file_extension": ".py",
   "mimetype": "text/x-python",
   "name": "python",
   "nbconvert_exporter": "python",
   "pygments_lexer": "ipython3",
   "version": "3.8.3"
  }
 },
 "nbformat": 4,
 "nbformat_minor": 4
}
