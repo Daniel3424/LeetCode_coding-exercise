{
 "cells": [
  {
   "cell_type": "markdown",
   "metadata": {},
   "source": [
    "## 744. Find Smallest Letter Greater Than Target\n",
    "\n",
    "Given a list of sorted characters letters containing only lowercase letters, and given a target letter target, find the smallest element in the list that is larger than the given target.\n",
    "\n",
    "Letters also wrap around. For example, if the target is target = 'z' and letters = ['a', 'b'], the answer is 'a'.\n",
    "\n",
    "Examples:\n",
    "```\n",
    "Input:\n",
    "letters = [\"c\", \"f\", \"j\"]\n",
    "target = \"a\"\n",
    "Output: \"c\"\n",
    "\n",
    "Input:\n",
    "letters = [\"c\", \"f\", \"j\"]\n",
    "target = \"c\"\n",
    "Output: \"f\"\n",
    "\n",
    "Input:\n",
    "letters = [\"c\", \"f\", \"j\"]\n",
    "target = \"d\"\n",
    "Output: \"f\"\n",
    "\n",
    "Input:\n",
    "letters = [\"c\", \"f\", \"j\"]\n",
    "target = \"g\"\n",
    "Output: \"j\"\n",
    "\n",
    "Input:\n",
    "letters = [\"c\", \"f\", \"j\"]\n",
    "target = \"j\"\n",
    "Output: \"c\"\n",
    "\n",
    "Input:\n",
    "letters = [\"c\", \"f\", \"j\"]\n",
    "target = \"k\"\n",
    "Output: \"c\"\n",
    "```\n",
    "Note:\n",
    "letters has a length in range [2, 10000].\n",
    "letters consists of lowercase letters, and contains at least 2 unique letters.\n",
    "target is a lowercase letter."
   ]
  },
  {
   "cell_type": "code",
   "execution_count": null,
   "metadata": {},
   "outputs": [],
   "source": [
    "class Solution:\n",
    "    def nextGreatestLetter(self, letters: List[str], target: str) -> str:\n",
    "        for letter in letters:\n",
    "          if letter > target: \n",
    "            return letter\n",
    "        return letters[0]"
   ]
  }
 ],
 "metadata": {
  "kernelspec": {
   "display_name": "Python 3",
   "language": "python",
   "name": "python3"
  },
  "language_info": {
   "codemirror_mode": {
    "name": "ipython",
    "version": 3
   },
   "file_extension": ".py",
   "mimetype": "text/x-python",
   "name": "python",
   "nbconvert_exporter": "python",
   "pygments_lexer": "ipython3",
   "version": "3.8.3"
  }
 },
 "nbformat": 4,
 "nbformat_minor": 4
}
