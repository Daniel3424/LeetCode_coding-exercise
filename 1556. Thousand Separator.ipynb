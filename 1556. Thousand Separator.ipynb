{
 "cells": [
  {
   "cell_type": "markdown",
   "metadata": {},
   "source": [
    "## 1556. Thousand Separator\n",
    "\n",
    "Given an integer n, add a dot (\".\") as the thousands separator and return it in string format.\n",
    "\n",
    " \n",
    "\n",
    "Example 1:\n",
    "```\n",
    "Input: n = 987\n",
    "Output: \"987\"\n",
    "```\n",
    "Example 2:\n",
    "```\n",
    "Input: n = 1234\n",
    "Output: \"1.234\"\n",
    "```\n",
    "Example 3:\n",
    "```\n",
    "Input: n = 123456789\n",
    "Output: \"123.456.789\"\n",
    "```\n",
    "Example 4:\n",
    "```\n",
    "Input: n = 0\n",
    "Output: \"0\"\n",
    "``` \n",
    "\n",
    "Constraints:\n",
    "\n",
    "0 <= n < 2^31"
   ]
  },
  {
   "cell_type": "code",
   "execution_count": null,
   "metadata": {},
   "outputs": [],
   "source": [
    "class Solution:\n",
    "    def thousandSeparator(self, n: int) -> str:\n",
    "        ans = []\n",
    "        \n",
    "        while True:\n",
    "          if n >= 1000:\n",
    "            a, b = divmod(n, 1000)\n",
    "            ans.append(str(b).zfill(3))\n",
    "            n = a\n",
    "            \n",
    "          else:\n",
    "            ans.append(str(n))\n",
    "            break\n",
    "        \n",
    "        return '.'.join(ans[::-1])"
   ]
  }
 ],
 "metadata": {
  "kernelspec": {
   "display_name": "Python 3",
   "language": "python",
   "name": "python3"
  },
  "language_info": {
   "codemirror_mode": {
    "name": "ipython",
    "version": 3
   },
   "file_extension": ".py",
   "mimetype": "text/x-python",
   "name": "python",
   "nbconvert_exporter": "python",
   "pygments_lexer": "ipython3",
   "version": "3.8.3"
  }
 },
 "nbformat": 4,
 "nbformat_minor": 4
}
