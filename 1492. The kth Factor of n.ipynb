{
 "cells": [
  {
   "cell_type": "markdown",
   "metadata": {},
   "source": [
    "## 1492. The kth Factor of n\n",
    "\n",
    "Given two positive integers n and k.\n",
    "\n",
    "A factor of an integer n is defined as an integer i where n % i == 0.\n",
    "\n",
    "Consider a list of all factors of n sorted in ascending order, return the kth factor in this list or return -1 if n has less than k factors.\n",
    "\n",
    " \n",
    "\n",
    "Example 1:\n",
    "```\n",
    "Input: n = 12, k = 3\n",
    "Output: 3\n",
    "Explanation: Factors list is [1, 2, 3, 4, 6, 12], the 3rd factor is 3.\n",
    "```\n",
    "Example 2:\n",
    "```\n",
    "Input: n = 7, k = 2\n",
    "Output: 7\n",
    "Explanation: Factors list is [1, 7], the 2nd factor is 7.\n",
    "```\n",
    "Example 3:\n",
    "```\n",
    "Input: n = 4, k = 4\n",
    "Output: -1\n",
    "Explanation: Factors list is [1, 2, 4], there is only 3 factors. We should return -1.\n",
    "```\n",
    "Example 4:\n",
    "```\n",
    "Input: n = 1, k = 1\n",
    "Output: 1\n",
    "Explanation: Factors list is [1], the 1st factor is 1.\n",
    "```\n",
    "Example 5:\n",
    "```\n",
    "Input: n = 1000, k = 3\n",
    "Output: 4\n",
    "Explanation: Factors list is [1, 2, 4, 5, 8, 10, 20, 25, 40, 50, 100, 125, 200, 250, 500, 1000].\n",
    "``` \n",
    "\n",
    "Constraints:\n",
    "\n",
    "1 <= k <= n <= 1000"
   ]
  },
  {
   "cell_type": "code",
   "execution_count": null,
   "metadata": {},
   "outputs": [],
   "source": [
    "class Solution:\n",
    "    def kthFactor(self, n: int, k: int) -> int:\n",
    "      count = 0\n",
    "      for i in range(1, n+1):\n",
    "        if n%i == 0:\n",
    "          count += 1\n",
    "        \n",
    "        if count == k:\n",
    "          return i\n",
    "      \n",
    "      return -1"
   ]
  }
 ],
 "metadata": {
  "kernelspec": {
   "display_name": "Python 3",
   "language": "python",
   "name": "python3"
  },
  "language_info": {
   "codemirror_mode": {
    "name": "ipython",
    "version": 3
   },
   "file_extension": ".py",
   "mimetype": "text/x-python",
   "name": "python",
   "nbconvert_exporter": "python",
   "pygments_lexer": "ipython3",
   "version": "3.8.3"
  }
 },
 "nbformat": 4,
 "nbformat_minor": 4
}
