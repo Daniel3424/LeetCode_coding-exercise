{
 "cells": [
  {
   "cell_type": "markdown",
   "metadata": {},
   "source": [
    "## 1605. Find Valid Matrix Given Row and Column Sums\n",
    "\n",
    "You are given two arrays rowSum and colSum of non-negative integers where rowSum[i] is the sum of the elements in the ith row and colSum[j] is the sum of the elements of the jth column of a 2D matrix. In other words, you do not know the elements of the matrix, but you do know the sums of each row and column.\n",
    "\n",
    "Find any matrix of non-negative integers of size rowSum.length x colSum.length that satisfies the rowSum and colSum requirements.\n",
    "\n",
    "Return a 2D array representing any matrix that fulfills the requirements. It's guaranteed that at least one matrix that fulfills the requirements exists.\n",
    "\n",
    " \n",
    "\n",
    "Example 1:\n",
    "```\n",
    "Input: rowSum = [3,8], colSum = [4,7]\n",
    "Output: [[3,0],\n",
    "         [1,7]]\n",
    "Explanation:\n",
    "0th row: 3 + 0 = 3 == rowSum[0]\n",
    "1st row: 1 + 7 = 8 == rowSum[1]\n",
    "0th column: 3 + 1 = 4 == colSum[0]\n",
    "1st column: 0 + 7 = 7 == colSum[1]\n",
    "The row and column sums match, and all matrix elements are non-negative.\n",
    "Another possible matrix is: [[1,2],\n",
    "                             [3,5]]\n",
    "```\n",
    "Example 2:\n",
    "```\n",
    "Input: rowSum = [5,7,10], colSum = [8,6,8]\n",
    "Output: [[0,5,0],\n",
    "         [6,1,0],\n",
    "         [2,0,8]]\n",
    "```\n",
    "Example 3:\n",
    "```\n",
    "Input: rowSum = [14,9], colSum = [6,9,8]\n",
    "Output: [[0,9,5],\n",
    "         [6,0,3]]\n",
    "```\n",
    "Example 4:\n",
    "```\n",
    "Input: rowSum = [1,0], colSum = [1]\n",
    "Output: [[1],\n",
    "         [0]]\n",
    "```\n",
    "Example 5:\n",
    "```\n",
    "Input: rowSum = [0], colSum = [0]\n",
    "Output: [[0]]\n",
    "``` \n",
    "\n",
    "Constraints:\n",
    "\n",
    "1 <= rowSum.length, colSum.length <= 500\n",
    "0 <= rowSum[i], colSum[i] <= 108\n",
    "sum(rows) == sum(columns)"
   ]
  },
  {
   "cell_type": "code",
   "execution_count": null,
   "metadata": {},
   "outputs": [],
   "source": [
    "class Solution:\n",
    "    def restoreMatrix(self, rowSum: List[int], colSum: List[int]) -> List[List[int]]:\n",
    "        m = len(rowSum)\n",
    "        n = len(colSum)\n",
    "        \n",
    "        mat = [[0] * n for i in range(m)]\n",
    "        \n",
    "        print(mat)\n",
    "        \n",
    "        for i in range(m):\n",
    "          for j in range(n):\n",
    "            mat[i][j] = min(rowSum[i], colSum[j])\n",
    "            rowSum[i] -= mat[i][j]\n",
    "            colSum[j] -= mat[i][j]\n",
    "            \n",
    "        return mat"
   ]
  }
 ],
 "metadata": {
  "kernelspec": {
   "display_name": "Python 3",
   "language": "python",
   "name": "python3"
  },
  "language_info": {
   "codemirror_mode": {
    "name": "ipython",
    "version": 3
   },
   "file_extension": ".py",
   "mimetype": "text/x-python",
   "name": "python",
   "nbconvert_exporter": "python",
   "pygments_lexer": "ipython3",
   "version": "3.8.3"
  }
 },
 "nbformat": 4,
 "nbformat_minor": 4
}
