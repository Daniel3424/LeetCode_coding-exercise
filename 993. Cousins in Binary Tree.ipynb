{
 "cells": [
  {
   "attachments": {
    "image.png": {
     "image/png": "[encoded data removed]"
    }
   },
   "cell_type": "markdown",
   "metadata": {},
   "source": [
    "## 993. Cousins in Binary Tree\n",
    "\n",
    "In a binary tree, the root node is at depth 0, and children of each depth k node are at depth k+1.\n",
    "\n",
    "Two nodes of a binary tree are cousins if they have the same depth, but have different parents.\n",
    "\n",
    "We are given the root of a binary tree with unique values, and the values x and y of two different nodes in the tree.\n",
    "\n",
    "Return true if and only if the nodes corresponding to the values x and y are cousins.\n",
    "\n",
    " \n",
    "\n",
    "Example 1:\n",
    "![image.png](attachment:image.png)\n",
    "```\n",
    "Input: root = [1,2,3,4], x = 4, y = 3\n",
    "Output: false\n",
    "```\n",
    "Example 2:\n",
    "![image.png](attachment:image.png)\n",
    "```\n",
    "Input: root = [1,2,3,null,4,null,5], x = 5, y = 4\n",
    "Output: true\n",
    "```\n",
    "Example 3:\n",
    "![image.png](attachment:image.png)\n",
    "```\n",
    "Input: root = [1,2,3,null,4], x = 2, y = 3\n",
    "Output: false\n",
    "``` \n",
    "\n",
    "Constraints:\n",
    "\n",
    "The number of nodes in the tree will be between 2 and 100.\n",
    "Each node has a unique integer value from 1 to 100."
   ]
  },
  {
   "cell_type": "code",
   "execution_count": null,
   "metadata": {},
   "outputs": [],
   "source": [
    "# Definition for a binary tree node.\n",
    "# class TreeNode:\n",
    "#     def __init__(self, val=0, left=None, right=None):\n",
    "#         self.val = val\n",
    "#         self.left = left\n",
    "#         self.right = right\n",
    "class Solution:\n",
    "    def isCousins(self, root: TreeNode, x: int, y: int) -> bool:\n",
    "        que = collections.deque()\n",
    "        que.append((root, 0))\n",
    "        dist = {}\n",
    "        while que:\n",
    "          node, depth = que.popleft()\n",
    "          if node.left:\n",
    "            dist[node.left.val] = (node.val, depth+1)\n",
    "            que.append((node.left, depth+1))\n",
    "          if node.right:\n",
    "            dist[node.right.val] = (node.val, depth+1)\n",
    "            que.append((node.right, depth+1))\n",
    "        if x not in dist or y not in dist:\n",
    "          return False\n",
    "        x_parent, x_depth = dist[x]\n",
    "        y_parent, y_depth = dist[y]\n",
    "        return x_depth == y_depth and x_parent != y_parent"
   ]
  }
 ],
 "metadata": {
  "kernelspec": {
   "display_name": "Python 3",
   "language": "python",
   "name": "python3"
  },
  "language_info": {
   "codemirror_mode": {
    "name": "ipython",
    "version": 3
   },
   "file_extension": ".py",
   "mimetype": "text/x-python",
   "name": "python",
   "nbconvert_exporter": "python",
   "pygments_lexer": "ipython3",
   "version": "3.8.3"
  }
 },
 "nbformat": 4,
 "nbformat_minor": 4
}
