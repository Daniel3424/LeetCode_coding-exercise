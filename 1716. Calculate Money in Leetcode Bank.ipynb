{
 "cells": [
  {
   "cell_type": "markdown",
   "metadata": {},
   "source": [
    "## 1716. Calculate Money in Leetcode Bank\n",
    "\n",
    "Hercy wants to save money for his first car. He puts money in the Leetcode bank every day.\n",
    "\n",
    "He starts by putting in $1 on Monday, the first day. Every day from Tuesday to Sunday, he will put in $1 more than the day before. On every subsequent Monday, he will put in $1 more than the previous Monday.\n",
    "Given n, return the total amount of money he will have in the Leetcode bank at the end of the nth day.\n",
    "\n",
    " \n",
    "\n",
    "Example 1:\n",
    "```\n",
    "Input: n = 4\n",
    "Output: 10\n",
    "Explanation: After the 4th day, the total is 1 + 2 + 3 + 4 = 10.\n",
    "```\n",
    "Example 2:\n",
    "```\n",
    "Input: n = 10\n",
    "Output: 37\n",
    "Explanation: After the 10th day, the total is (1 + 2 + 3 + 4 + 5 + 6 + 7) + (2 + 3 + 4) = 37. Notice that on the 2nd Monday, Hercy only puts in $2.\n",
    "```\n",
    "Example 3:\n",
    "```\n",
    "Input: n = 20\n",
    "Output: 96\n",
    "Explanation: After the 20th day, the total is (1 + 2 + 3 + 4 + 5 + 6 + 7) + (2 + 3 + 4 + 5 + 6 + 7 + 8) + (3 + 4 + 5 + 6 + 7 + 8) = 96.\n",
    "``` \n",
    "\n",
    "Constraints:\n",
    "\n",
    "1 <= n <= 1000"
   ]
  },
  {
   "cell_type": "code",
   "execution_count": null,
   "metadata": {},
   "outputs": [],
   "source": [
    "class Solution:\n",
    "    def totalMoney(self, n: int) -> int:\n",
    "        def putMoney(a, d, n):\n",
    "          return (2*a + (n-1)*d) * n//2\n",
    "        \n",
    "        put, day = 1, 7\n",
    "        first = putMoney(put, put, day)\n",
    "        week, remain = divmod(n, day)\n",
    "        return putMoney(first, put * day, week) + putMoney(put*(week + 1), put, remain)"
   ]
  }
 ],
 "metadata": {
  "kernelspec": {
   "display_name": "Python 3",
   "language": "python",
   "name": "python3"
  },
  "language_info": {
   "codemirror_mode": {
    "name": "ipython",
    "version": 3
   },
   "file_extension": ".py",
   "mimetype": "text/x-python",
   "name": "python",
   "nbconvert_exporter": "python",
   "pygments_lexer": "ipython3",
   "version": "3.8.3"
  }
 },
 "nbformat": 4,
 "nbformat_minor": 4
}
