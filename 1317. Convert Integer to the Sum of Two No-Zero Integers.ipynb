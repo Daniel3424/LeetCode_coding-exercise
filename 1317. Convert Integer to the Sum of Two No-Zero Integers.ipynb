{
 "cells": [
  {
   "cell_type": "markdown",
   "metadata": {},
   "source": [
    "## 1317. Convert Integer to the Sum of Two No-Zero Integers\n",
    "\n",
    "Given an integer n. No-Zero integer is a positive integer which doesn't contain any 0 in its decimal representation.\n",
    "\n",
    "Return a list of two integers [A, B] where:\n",
    "\n",
    "A and B are No-Zero integers.\n",
    "A + B = n\n",
    "It's guarateed that there is at least one valid solution. If there are many valid solutions you can return any of them.\n",
    "\n",
    " \n",
    "\n",
    "Example 1:\n",
    "```\n",
    "Input: n = 2\n",
    "Output: [1,1]\n",
    "Explanation: A = 1, B = 1. A + B = n and both A and B don't contain any 0 in their decimal representation.\n",
    "```\n",
    "Example 2:\n",
    "```\n",
    "Input: n = 11\n",
    "Output: [2,9]\n",
    "```\n",
    "Example 3:\n",
    "```\n",
    "Input: n = 10000\n",
    "Output: [1,9999]\n",
    "```\n",
    "Example 4:\n",
    "```\n",
    "Input: n = 69\n",
    "Output: [1,68]\n",
    "```\n",
    "Example 5:\n",
    "```\n",
    "Input: n = 1010\n",
    "Output: [11,999]\n",
    "``` \n",
    "\n",
    "Constraints:\n",
    "\n",
    "2 <= n <= 10^4"
   ]
  },
  {
   "cell_type": "code",
   "execution_count": null,
   "metadata": {},
   "outputs": [],
   "source": [
    "class Solution:\n",
    "    def getNoZeroIntegers(self, n: int) -> List[int]:\n",
    "        for i in range(1, n):\n",
    "          if '0' not in str(i) and '0' not in str(n-i):\n",
    "            return [i, n-i]"
   ]
  }
 ],
 "metadata": {
  "kernelspec": {
   "display_name": "Python 3",
   "language": "python",
   "name": "python3"
  },
  "language_info": {
   "codemirror_mode": {
    "name": "ipython",
    "version": 3
   },
   "file_extension": ".py",
   "mimetype": "text/x-python",
   "name": "python",
   "nbconvert_exporter": "python",
   "pygments_lexer": "ipython3",
   "version": "3.8.3"
  }
 },
 "nbformat": 4,
 "nbformat_minor": 4
}
