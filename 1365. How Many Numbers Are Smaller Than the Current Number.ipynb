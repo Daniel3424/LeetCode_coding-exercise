{
 "cells": [
  {
   "cell_type": "markdown",
   "metadata": {},
   "source": [
    "## 1365. How Many Numbers Are Smaller Than the Current Number\n",
    "\n",
    "Given the array nums, for each nums[i] find out how many numbers in the array are smaller than it. That is, for each nums[i] you have to count the number of valid j's such that j != i and nums[j] < nums[i].\n",
    "\n",
    "Return the answer in an array.\n",
    "\n",
    " \n",
    "\n",
    "Example 1:\n",
    "```\n",
    "Input: nums = [8,1,2,2,3]\n",
    "Output: [4,0,1,1,3]\n",
    "Explanation: \n",
    "For nums[0]=8 there exist four smaller numbers than it (1, 2, 2 and 3). \n",
    "For nums[1]=1 does not exist any smaller number than it.\n",
    "For nums[2]=2 there exist one smaller number than it (1). \n",
    "For nums[3]=2 there exist one smaller number than it (1). \n",
    "For nums[4]=3 there exist three smaller numbers than it (1, 2 and 2).\n",
    "```\n",
    "Example 2:\n",
    "```\n",
    "Input: nums = [6,5,4,8]\n",
    "Output: [2,1,0,3]\n",
    "```\n",
    "Example 3:\n",
    "```\n",
    "Input: nums = [7,7,7,7]\n",
    "Output: [0,0,0,0]\n",
    "``` \n",
    "\n",
    "Constraints:\n",
    "\n",
    "2 <= nums.length <= 500\n",
    "0 <= nums[i] <= 100"
   ]
  },
  {
   "cell_type": "code",
   "execution_count": null,
   "metadata": {},
   "outputs": [],
   "source": [
    "class Solution:\n",
    "    def smallerNumbersThanCurrent(self, nums: List[int]) -> List[int]:\n",
    "        ans = []\n",
    "        \n",
    "        for num in nums:\n",
    "          tmp = [n for n in nums if n < num]\n",
    "          ans.append(len(tmp))\n",
    "          \n",
    "        return ans"
   ]
  }
 ],
 "metadata": {
  "kernelspec": {
   "display_name": "Python 3",
   "language": "python",
   "name": "python3"
  },
  "language_info": {
   "codemirror_mode": {
    "name": "ipython",
    "version": 3
   },
   "file_extension": ".py",
   "mimetype": "text/x-python",
   "name": "python",
   "nbconvert_exporter": "python",
   "pygments_lexer": "ipython3",
   "version": "3.8.3"
  }
 },
 "nbformat": 4,
 "nbformat_minor": 4
}
