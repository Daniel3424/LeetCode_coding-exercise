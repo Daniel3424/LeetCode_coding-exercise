{
 "cells": [
  {
   "cell_type": "markdown",
   "metadata": {},
   "source": [
    "## 974. Subarray Sums Divisible by K\n",
    "\n",
    "Given an array A of integers, return the number of (contiguous, non-empty) subarrays that have a sum divisible by K.\n",
    "\n",
    " \n",
    "\n",
    "Example 1:\n",
    "```\n",
    "Input: A = [4,5,0,-2,-3,1], K = 5\n",
    "Output: 7\n",
    "Explanation: There are 7 subarrays with a sum divisible by K = 5:\n",
    "[4, 5, 0, -2, -3, 1], [5], [5, 0], [5, 0, -2, -3], [0], [0, -2, -3], [-2, -3]\n",
    "``` \n",
    "\n",
    "Note:\n",
    "\n",
    "1 <= A.length <= 30000\n",
    "-10000 <= A[i] <= 10000\n",
    "2 <= K <= 10000"
   ]
  },
  {
   "cell_type": "code",
   "execution_count": null,
   "metadata": {},
   "outputs": [],
   "source": [
    "class Solution:\n",
    "    def subarraysDivByK(self, A: List[int], K: int) -> int:\n",
    "        counts = [0] * K\n",
    "        sum = 0\n",
    "        for x in A:\n",
    "          sum += x%K\n",
    "          counts[sum % K] += 1\n",
    "          \n",
    "        result = counts[0]\n",
    "        for c in counts:\n",
    "          result += (c*(c-1))//2\n",
    "        \n",
    "        return result"
   ]
  }
 ],
 "metadata": {
  "kernelspec": {
   "display_name": "Python 3",
   "language": "python",
   "name": "python3"
  },
  "language_info": {
   "codemirror_mode": {
    "name": "ipython",
    "version": 3
   },
   "file_extension": ".py",
   "mimetype": "text/x-python",
   "name": "python",
   "nbconvert_exporter": "python",
   "pygments_lexer": "ipython3",
   "version": "3.8.3"
  }
 },
 "nbformat": 4,
 "nbformat_minor": 4
}
