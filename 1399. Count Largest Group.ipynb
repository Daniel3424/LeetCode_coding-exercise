{
 "cells": [
  {
   "cell_type": "markdown",
   "metadata": {},
   "source": [
    "## 1399. Count Largest Group\n",
    "\n",
    "Given an integer n. Each number from 1 to n is grouped according to the sum of its digits. \n",
    "\n",
    "Return how many groups have the largest size.\n",
    "\n",
    " \n",
    "\n",
    "Example 1:\n",
    "```\n",
    "Input: n = 13\n",
    "Output: 4\n",
    "Explanation: There are 9 groups in total, they are grouped according sum of its digits of numbers from 1 to 13:\n",
    "[1,10], [2,11], [3,12], [4,13], [5], [6], [7], [8], [9]. There are 4 groups with largest size.\n",
    "```\n",
    "Example 2:\n",
    "```\n",
    "Input: n = 2\n",
    "Output: 2\n",
    "Explanation: There are 2 groups [1], [2] of size 1.\n",
    "```\n",
    "Example 3:\n",
    "```\n",
    "Input: n = 15\n",
    "Output: 6\n",
    "```\n",
    "Example 4:\n",
    "```\n",
    "Input: n = 24\n",
    "Output: 5\n",
    "``` \n",
    "\n",
    "Constraints:\n",
    "\n",
    "1 <= n <= 10^4"
   ]
  },
  {
   "cell_type": "code",
   "execution_count": null,
   "metadata": {},
   "outputs": [],
   "source": [
    "from collections import Counter\n",
    "\n",
    "class Solution:\n",
    "    def countLargestGroup(self, n: int) -> int:\n",
    "        c = Counter()\n",
    "        for i in range(1, n+1):\n",
    "          c[sum(int(d) for d in str(i))] += 1\n",
    "          \n",
    "        ans = 0\n",
    "        large = 0 \n",
    "        \n",
    "        for l, cnt in c.most_common():\n",
    "          if large != 0 and cnt != large:\n",
    "            return ans\n",
    "          \n",
    "          else: \n",
    "            large = cnt\n",
    "            ans += 1 \n",
    "        \n",
    "        return ans"
   ]
  }
 ],
 "metadata": {
  "kernelspec": {
   "display_name": "Python 3",
   "language": "python",
   "name": "python3"
  },
  "language_info": {
   "codemirror_mode": {
    "name": "ipython",
    "version": 3
   },
   "file_extension": ".py",
   "mimetype": "text/x-python",
   "name": "python",
   "nbconvert_exporter": "python",
   "pygments_lexer": "ipython3",
   "version": "3.8.3"
  }
 },
 "nbformat": 4,
 "nbformat_minor": 4
}
