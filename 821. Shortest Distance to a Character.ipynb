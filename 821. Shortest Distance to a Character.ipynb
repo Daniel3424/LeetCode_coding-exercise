{
 "cells": [
  {
   "cell_type": "markdown",
   "metadata": {},
   "source": [
    "## 821. Shortest Distance to a Character\n",
    "\n",
    "Given a string S and a character C, return an array of integers representing the shortest distance from the character C in the string.\n",
    "\n",
    "Example 1:\n",
    "```\n",
    "Input: S = \"loveleetcode\", C = 'e'\n",
    "Output: [3, 2, 1, 0, 1, 0, 0, 1, 2, 2, 1, 0]\n",
    "``` \n",
    "\n",
    "Note:\n",
    "\n",
    "S string length is in [1, 10000].\n",
    "C is a single character, and guaranteed to be in string S.\n",
    "All letters in S and C are lowercase."
   ]
  },
  {
   "cell_type": "code",
   "execution_count": null,
   "metadata": {},
   "outputs": [],
   "source": [
    "class Solution:\n",
    "    def shortestToChar(self, S: str, C: str) -> List[int]:\n",
    "        N = len(S)\n",
    "        idx = -1000000\n",
    "        ans = [0] * N\n",
    "        \n",
    "        for i, s in enumerate(S):\n",
    "          if s == C:\n",
    "            idx = i\n",
    "          ans[i] = abs(i - idx)\n",
    "          \n",
    "        idx = -100000\n",
    "        for i in range(N-1, -1, -1):\n",
    "          if S[i] == C:\n",
    "            idx = i\n",
    "          ans[i] = min(abs(i-idx), ans[i])\n",
    "        return ans"
   ]
  }
 ],
 "metadata": {
  "kernelspec": {
   "display_name": "Python 3",
   "language": "python",
   "name": "python3"
  },
  "language_info": {
   "codemirror_mode": {
    "name": "ipython",
    "version": 3
   },
   "file_extension": ".py",
   "mimetype": "text/x-python",
   "name": "python",
   "nbconvert_exporter": "python",
   "pygments_lexer": "ipython3",
   "version": "3.8.3"
  }
 },
 "nbformat": 4,
 "nbformat_minor": 4
}
