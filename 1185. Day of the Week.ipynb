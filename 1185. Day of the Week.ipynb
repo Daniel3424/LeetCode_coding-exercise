{
 "cells": [
  {
   "cell_type": "markdown",
   "metadata": {},
   "source": [
    "## 1185. Day of the Week\n",
    "\n",
    "Given a date, return the corresponding day of the week for that date.\n",
    "\n",
    "The input is given as three integers representing the day, month and year respectively.\n",
    "\n",
    "Return the answer as one of the following values {\"Sunday\", \"Monday\", \"Tuesday\", \"Wednesday\", \"Thursday\", \"Friday\", \"Saturday\"}.\n",
    "\n",
    " \n",
    "\n",
    "Example 1:\n",
    "```\n",
    "Input: day = 31, month = 8, year = 2019\n",
    "Output: \"Saturday\"\n",
    "```\n",
    "Example 2:\n",
    "```\n",
    "Input: day = 18, month = 7, year = 1999\n",
    "Output: \"Sunday\"\n",
    "```\n",
    "Example 3:\n",
    "```\n",
    "Input: day = 15, month = 8, year = 1993\n",
    "Output: \"Sunday\"\n",
    "``` \n",
    "\n",
    "Constraints:\n",
    "\n",
    "The given dates are valid dates between the years 1971 and 2100."
   ]
  },
  {
   "cell_type": "code",
   "execution_count": null,
   "metadata": {},
   "outputs": [],
   "source": [
    "class Solution:\n",
    "    def dayOfTheWeek(self, day: int, month: int, year: int) -> str:\n",
    "        week = [\"Monday\", \"Tuesday\", \"Wednesday\", \"Thursday\", \"Friday\", \"Saturday\", \"Sunday\"]\n",
    "        weekday = datetime.datetime(year, month, day).weekday()\n",
    "        return week[weekday]"
   ]
  }
 ],
 "metadata": {
  "kernelspec": {
   "display_name": "Python 3",
   "language": "python",
   "name": "python3"
  },
  "language_info": {
   "codemirror_mode": {
    "name": "ipython",
    "version": 3
   },
   "file_extension": ".py",
   "mimetype": "text/x-python",
   "name": "python",
   "nbconvert_exporter": "python",
   "pygments_lexer": "ipython3",
   "version": "3.8.3"
  }
 },
 "nbformat": 4,
 "nbformat_minor": 4
}
