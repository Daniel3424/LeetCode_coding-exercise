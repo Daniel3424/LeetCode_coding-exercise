{
 "cells": [
  {
   "cell_type": "markdown",
   "metadata": {},
   "source": [
    "## 791. Custom Sort String\n",
    "\n",
    "S and T are strings composed of lowercase letters. In S, no letter occurs more than once.\n",
    "\n",
    "S was sorted in some custom order previously. We want to permute the characters of T so that they match the order that S was sorted. More specifically, if x occurs before y in S, then x should occur before y in the returned string.\n",
    "\n",
    "Return any permutation of T (as a string) that satisfies this property.\n",
    "\n",
    "Example :\n",
    "```\n",
    "Input: \n",
    "S = \"cba\"\n",
    "T = \"abcd\"\n",
    "Output: \"cbad\"\n",
    "Explanation: \n",
    "\"a\", \"b\", \"c\" appear in S, so the order of \"a\", \"b\", \"c\" should be \"c\", \"b\", and \"a\". \n",
    "Since \"d\" does not appear in S, it can be at any position in T. \"dcba\", \"cdba\", \"cbda\" are also valid outputs.\n",
    "``` \n",
    "\n",
    "Note:\n",
    "\n",
    "S has length at most 26, and no character is repeated in S.\n",
    "T has length at most 200.\n",
    "S and T consist of lowercase letters only."
   ]
  },
  {
   "cell_type": "code",
   "execution_count": null,
   "metadata": {},
   "outputs": [],
   "source": [
    "class Solution:\n",
    "    def customSortString(self, S: str, T: str) -> str:\n",
    "        cnt = Counter(T)\n",
    "        ans = ''\n",
    "        \n",
    "        for s in S:\n",
    "          ans += s * cnt[s]\n",
    "          cnt[s] = 0\n",
    "          \n",
    "        for c in cnt:\n",
    "          ans += c * cnt[c]\n",
    "          \n",
    "        return ans"
   ]
  }
 ],
 "metadata": {
  "kernelspec": {
   "display_name": "Python 3",
   "language": "python",
   "name": "python3"
  },
  "language_info": {
   "codemirror_mode": {
    "name": "ipython",
    "version": 3
   },
   "file_extension": ".py",
   "mimetype": "text/x-python",
   "name": "python",
   "nbconvert_exporter": "python",
   "pygments_lexer": "ipython3",
   "version": "3.8.3"
  }
 },
 "nbformat": 4,
 "nbformat_minor": 4
}
