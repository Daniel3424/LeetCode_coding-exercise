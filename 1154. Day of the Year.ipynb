{
 "cells": [
  {
   "cell_type": "markdown",
   "metadata": {},
   "source": [
    "## 1154. Day of the Year\n",
    "\n",
    "Given a string date representing a Gregorian calendar date formatted as YYYY-MM-DD, return the day number of the year.\n",
    "\n",
    " \n",
    "\n",
    "Example 1:\n",
    "```\n",
    "Input: date = \"2019-01-09\"\n",
    "Output: 9\n",
    "Explanation: Given date is the 9th day of the year in 2019.\n",
    "```\n",
    "Example 2:\n",
    "```\n",
    "Input: date = \"2019-02-10\"\n",
    "Output: 41\n",
    "```\n",
    "Example 3:\n",
    "```\n",
    "Input: date = \"2003-03-01\"\n",
    "Output: 60\n",
    "```\n",
    "Example 4:\n",
    "```\n",
    "Input: date = \"2004-03-01\"\n",
    "Output: 61\n",
    "``` \n",
    "\n",
    "Constraints:\n",
    "\n",
    "date.length == 10\n",
    "date[4] == date[7] == '-', and all other date[i]'s are digits\n",
    "date represents a calendar date between Jan 1st, 1900 and Dec 31, 2019."
   ]
  },
  {
   "cell_type": "code",
   "execution_count": null,
   "metadata": {},
   "outputs": [],
   "source": [
    "class Solution:\n",
    "    def dayOfYear(self, date: str) -> int:\n",
    "        date = date.split(\"-\")\n",
    "        year = date[0]\n",
    "        \n",
    "        def isYear(year):\n",
    "          return (year % 4) == 0 and (year % 100) != 0 or (year % 400) == 0\n",
    "        month_date = [31,28,31,30,31,30,31,31,30,31,30,31]\n",
    "        \n",
    "        if isYear(int(year)):\n",
    "          month_date[1] += 1\n",
    "        \n",
    "        month = int(date[1])\n",
    "        return sum(month_date[:month-1]) + int(date[2])"
   ]
  },
  {
   "cell_type": "code",
   "execution_count": null,
   "metadata": {},
   "outputs": [],
   "source": [
    "class Solution:\n",
    "    def dayOfYear(self, date: str) -> int:\n",
    "        year = int(date[0:4])\n",
    "        month = int(date[5:7])\n",
    "        day = int(date[8:])\n",
    "        c = [31,28,31,30,31,30,31,31,30,31,30,31]\n",
    "        d = 0\n",
    "        for i in range(1,month):\n",
    "            if i ==2 and ((year % 4 == 0 and year % 100 != 0) or year % 400 == 0):\n",
    "                d += 29\n",
    "            else:\n",
    "                d += c[i-1]\n",
    "        d += day\n",
    "        return d"
   ]
  }
 ],
 "metadata": {
  "kernelspec": {
   "display_name": "Python 3",
   "language": "python",
   "name": "python3"
  },
  "language_info": {
   "codemirror_mode": {
    "name": "ipython",
    "version": 3
   },
   "file_extension": ".py",
   "mimetype": "text/x-python",
   "name": "python",
   "nbconvert_exporter": "python",
   "pygments_lexer": "ipython3",
   "version": "3.8.3"
  }
 },
 "nbformat": 4,
 "nbformat_minor": 4
}
