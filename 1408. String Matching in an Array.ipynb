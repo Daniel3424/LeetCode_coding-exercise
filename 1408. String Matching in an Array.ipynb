{
 "cells": [
  {
   "cell_type": "markdown",
   "metadata": {},
   "source": [
    "## 1408. String Matching in an Array\n",
    "\n",
    "Given an array of string words. Return all strings in words which is substring of another word in any order. \n",
    "\n",
    "String words[i] is substring of words[j], if can be obtained removing some characters to left and/or right side of words[j].\n",
    "\n",
    " \n",
    "\n",
    "Example 1:\n",
    "```\n",
    "Input: words = [\"mass\",\"as\",\"hero\",\"superhero\"]\n",
    "Output: [\"as\",\"hero\"]\n",
    "Explanation: \"as\" is substring of \"mass\" and \"hero\" is substring of \"superhero\".\n",
    "[\"hero\",\"as\"] is also a valid answer.\n",
    "```\n",
    "Example 2:\n",
    "```\n",
    "Input: words = [\"leetcode\",\"et\",\"code\"]\n",
    "Output: [\"et\",\"code\"]\n",
    "Explanation: \"et\", \"code\" are substring of \"leetcode\".\n",
    "```\n",
    "Example 3:\n",
    "```\n",
    "Input: words = [\"blue\",\"green\",\"bu\"]\n",
    "Output: []\n",
    "``` \n",
    "\n",
    "Constraints:\n",
    "\n",
    "1 <= words.length <= 100\n",
    "1 <= words[i].length <= 30\n",
    "words[i] contains only lowercase English letters.\n",
    "It's guaranteed that words[i] will be unique."
   ]
  },
  {
   "cell_type": "code",
   "execution_count": null,
   "metadata": {},
   "outputs": [],
   "source": [
    "class Solution:\n",
    "    def stringMatching(self, words: List[str]) -> List[str]:\n",
    "        result = []\n",
    "        for a_word in words:\n",
    "          for word in words:\n",
    "            if a_word != word and a_word in word:\n",
    "              result.append(a_word)\n",
    "              break\n",
    "        return result"
   ]
  }
 ],
 "metadata": {
  "kernelspec": {
   "display_name": "Python 3",
   "language": "python",
   "name": "python3"
  },
  "language_info": {
   "codemirror_mode": {
    "name": "ipython",
    "version": 3
   },
   "file_extension": ".py",
   "mimetype": "text/x-python",
   "name": "python",
   "nbconvert_exporter": "python",
   "pygments_lexer": "ipython3",
   "version": "3.8.3"
  }
 },
 "nbformat": 4,
 "nbformat_minor": 4
}
