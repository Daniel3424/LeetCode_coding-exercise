{
 "cells": [
  {
   "cell_type": "markdown",
   "metadata": {},
   "source": [
    "## 1417. Reformat The String\n",
    "\n",
    "Given alphanumeric string s. (Alphanumeric string is a string consisting of lowercase English letters and digits).\n",
    "\n",
    "You have to find a permutation of the string where no letter is followed by another letter and no digit is followed by another digit. That is, no two adjacent characters have the same type.\n",
    "\n",
    "Return the reformatted string or return an empty string if it is impossible to reformat the string.\n",
    "\n",
    " \n",
    "\n",
    "Example 1:\n",
    "```\n",
    "Input: s = \"a0b1c2\"\n",
    "Output: \"0a1b2c\"\n",
    "Explanation: No two adjacent characters have the same type in \"0a1b2c\". \"a0b1c2\", \"0a1b2c\", \"0c2a1b\" are also valid permutations.\n",
    "```\n",
    "Example 2:\n",
    "```\n",
    "Input: s = \"leetcode\"\n",
    "Output: \"\"\n",
    "Explanation: \"leetcode\" has only characters so we cannot separate them by digits.\n",
    "```\n",
    "Example 3:\n",
    "```\n",
    "Input: s = \"1229857369\"\n",
    "Output: \"\"\n",
    "Explanation: \"1229857369\" has only digits so we cannot separate them by characters.\n",
    "```\n",
    "Example 4:\n",
    "```\n",
    "Input: s = \"covid2019\"\n",
    "Output: \"c2o0v1i9d\"\n",
    "```\n",
    "Example 5:\n",
    "```\n",
    "Input: s = \"ab123\"\n",
    "Output: \"1a2b3\"\n",
    "``` \n",
    "\n",
    "Constraints:\n",
    "\n",
    "1 <= s.length <= 500\n",
    "s consists of only lowercase English letters and/or digits."
   ]
  },
  {
   "cell_type": "code",
   "execution_count": null,
   "metadata": {},
   "outputs": [],
   "source": [
    "class Solution:\n",
    "    def reformat(self, s: str) -> str:\n",
    "        strs = [c for c in s if not c.isdigit()]\n",
    "        digits = [c for c in s if c.isdigit()]\n",
    "        res = \"\"\n",
    "        while strs and digits:\n",
    "            res += strs.pop() + digits.pop()\n",
    "        if len(strs) > 1 or len(digits) > 1:\n",
    "            return \"\"\n",
    "        elif len(strs) == 1:\n",
    "            res += strs.pop()\n",
    "        elif len(digits) == 1:\n",
    "            res = digits.pop() + res\n",
    "        return res"
   ]
  }
 ],
 "metadata": {
  "kernelspec": {
   "display_name": "Python 3",
   "language": "python",
   "name": "python3"
  },
  "language_info": {
   "codemirror_mode": {
    "name": "ipython",
    "version": 3
   },
   "file_extension": ".py",
   "mimetype": "text/x-python",
   "name": "python",
   "nbconvert_exporter": "python",
   "pygments_lexer": "ipython3",
   "version": "3.8.3"
  }
 },
 "nbformat": 4,
 "nbformat_minor": 4
}
