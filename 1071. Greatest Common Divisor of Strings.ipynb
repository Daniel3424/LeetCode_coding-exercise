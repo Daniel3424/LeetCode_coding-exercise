{
 "cells": [
  {
   "cell_type": "markdown",
   "metadata": {},
   "source": [
    "## 1071. Greatest Common Divisor of Strings\n",
    "\n",
    "For two strings s and t, we say \"t divides s\" if and only if s = t + ... + t  (t concatenated with itself 1 or more times)\n",
    "\n",
    "Given two strings str1 and str2, return the largest string x such that x divides both str1 and str2.\n",
    "\n",
    " \n",
    "\n",
    "Example 1:\n",
    "```\n",
    "Input: str1 = \"ABCABC\", str2 = \"ABC\"\n",
    "Output: \"ABC\"\n",
    "```\n",
    "Example 2:\n",
    "```\n",
    "Input: str1 = \"ABABAB\", str2 = \"ABAB\"\n",
    "Output: \"AB\"\n",
    "```\n",
    "Example 3:\n",
    "```\n",
    "Input: str1 = \"LEET\", str2 = \"CODE\"\n",
    "Output: \"\"\n",
    "```\n",
    "Example 4:\n",
    "```\n",
    "Input: str1 = \"ABCDEF\", str2 = \"ABC\"\n",
    "Output: \"\"\n",
    "``` \n",
    "\n",
    "Constraints:\n",
    "\n",
    "1 <= str1.length <= 1000\n",
    "1 <= str2.length <= 1000\n",
    "str1 and str2 consist of English uppercase letters."
   ]
  },
  {
   "cell_type": "code",
   "execution_count": null,
   "metadata": {},
   "outputs": [],
   "source": [
    "class Solution:\n",
    "    def gcdOfStrings(self, str1: str, str2: str) -> str:\n",
    "        if not str1 or not str2:\n",
    "          return str1 if str1 else str2\n",
    "        \n",
    "        elif len(str1) < len(str2):\n",
    "          return self.gcdOfStrings(str2, str1)\n",
    "        \n",
    "        elif str1[:len(str2)] == str2:\n",
    "          return self.gcdOfStrings(str1[len(str2):], str2)\n",
    "        \n",
    "        else:\n",
    "          return ''"
   ]
  }
 ],
 "metadata": {
  "kernelspec": {
   "display_name": "Python 3",
   "language": "python",
   "name": "python3"
  },
  "language_info": {
   "codemirror_mode": {
    "name": "ipython",
    "version": 3
   },
   "file_extension": ".py",
   "mimetype": "text/x-python",
   "name": "python",
   "nbconvert_exporter": "python",
   "pygments_lexer": "ipython3",
   "version": "3.8.3"
  }
 },
 "nbformat": 4,
 "nbformat_minor": 4
}
