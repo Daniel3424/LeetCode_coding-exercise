{
 "cells": [
  {
   "cell_type": "markdown",
   "metadata": {},
   "source": [
    "## 917. Reverse Only Letters\n",
    "\n",
    "Given a string S, return the \"reversed\" string where all characters that are not a letter stay in the same place, and all letters reverse their positions.\n",
    "\n",
    " \n",
    "\n",
    "Example 1:\n",
    "```\n",
    "Input: \"ab-cd\"\n",
    "Output: \"dc-ba\"\n",
    "```\n",
    "Example 2:\n",
    "```\n",
    "Input: \"a-bC-dEf-ghIj\"\n",
    "Output: \"j-Ih-gfE-dCba\"\n",
    "```\n",
    "Example 3:\n",
    "```\n",
    "Input: \"Test1ng-Leet=code-Q!\"\n",
    "Output: \"Qedo1ct-eeLg=ntse-T!\"\n",
    "``` \n",
    "\n",
    "Note:\n",
    "\n",
    "S.length <= 100\n",
    "33 <= S[i].ASCIIcode <= 122 \n",
    "S doesn't contain \\ or \""
   ]
  },
  {
   "cell_type": "code",
   "execution_count": null,
   "metadata": {},
   "outputs": [],
   "source": [
    "class Solution:\n",
    "    def reverseOnlyLetters(self, S: str) -> str:\n",
    "        letters = []\n",
    "        n = len(S)\n",
    "        for i, s in enumerate(S):\n",
    "          if s.isalpha():\n",
    "            letters.append(s)\n",
    "            \n",
    "        res = \"\"\n",
    "        for i, s in enumerate(S):\n",
    "          if s.isalpha():\n",
    "            res += letters.pop()\n",
    "          else:\n",
    "            res += s\n",
    "            \n",
    "        return res"
   ]
  }
 ],
 "metadata": {
  "kernelspec": {
   "display_name": "Python 3",
   "language": "python",
   "name": "python3"
  },
  "language_info": {
   "codemirror_mode": {
    "name": "ipython",
    "version": 3
   },
   "file_extension": ".py",
   "mimetype": "text/x-python",
   "name": "python",
   "nbconvert_exporter": "python",
   "pygments_lexer": "ipython3",
   "version": "3.8.3"
  }
 },
 "nbformat": 4,
 "nbformat_minor": 4
}
