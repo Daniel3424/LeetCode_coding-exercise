{
 "cells": [
  {
   "cell_type": "markdown",
   "metadata": {},
   "source": [
    "## 1331. Rank Transform of an Array\n",
    "\n",
    "Given an array of integers arr, replace each element with its rank.\n",
    "\n",
    "The rank represents how large the element is. The rank has the following rules:\n",
    "\n",
    "Rank is an integer starting from 1.\n",
    "The larger the element, the larger the rank. If two elements are equal, their rank must be the same.\n",
    "Rank should be as small as possible.\n",
    " \n",
    "\n",
    "Example 1:\n",
    "```\n",
    "Input: arr = [40,10,20,30]\n",
    "Output: [4,1,2,3]\n",
    "Explanation: 40 is the largest element. 10 is the smallest. 20 is the second smallest. 30 is the third smallest.\n",
    "```\n",
    "Example 2:\n",
    "```\n",
    "Input: arr = [100,100,100]\n",
    "Output: [1,1,1]\n",
    "Explanation: Same elements share the same rank.\n",
    "```\n",
    "Example 3:\n",
    "```\n",
    "Input: arr = [37,12,28,9,100,56,80,5,12]\n",
    "Output: [5,3,4,2,8,6,7,1,3]\n",
    "``` \n",
    "\n",
    "Constraints:\n",
    "\n",
    "0 <= arr.length <= 105\n",
    "-109 <= arr[i] <= 109"
   ]
  },
  {
   "cell_type": "code",
   "execution_count": null,
   "metadata": {},
   "outputs": [],
   "source": [
    "class Solution:\n",
    "    def arrayRankTransform(self, arr: List[int]) -> List[int]:\n",
    "        ans = {}\n",
    "        \n",
    "        for a in sorted(arr):\n",
    "          if a not in ans:\n",
    "            ans[a] = len(ans) + 1\n",
    "            \n",
    "        \n",
    "        return map(ans.get, arr)"
   ]
  }
 ],
 "metadata": {
  "kernelspec": {
   "display_name": "Python 3",
   "language": "python",
   "name": "python3"
  },
  "language_info": {
   "codemirror_mode": {
    "name": "ipython",
    "version": 3
   },
   "file_extension": ".py",
   "mimetype": "text/x-python",
   "name": "python",
   "nbconvert_exporter": "python",
   "pygments_lexer": "ipython3",
   "version": "3.8.3"
  }
 },
 "nbformat": 4,
 "nbformat_minor": 4
}
