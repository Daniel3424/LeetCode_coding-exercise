{
 "cells": [
  {
   "cell_type": "markdown",
   "metadata": {},
   "source": [
    "## 1304. Find N Unique Integers Sum up to Zero\n",
    "\n",
    "Given an integer n, return any array containing n unique integers such that they add up to 0.\n",
    "\n",
    " \n",
    "\n",
    "Example 1:\n",
    "```\n",
    "Input: n = 5\n",
    "Output: [-7,-1,1,3,4]\n",
    "Explanation: These arrays also are accepted [-5,-1,1,2,3] , [-3,-1,2,-2,4].\n",
    "```\n",
    "Example 2:\n",
    "```\n",
    "Input: n = 3\n",
    "Output: [-1,0,1]\n",
    "```\n",
    "Example 3:\n",
    "```\n",
    "Input: n = 1\n",
    "Output: [0]\n",
    "``` \n",
    "\n",
    "Constraints:\n",
    "\n",
    "1 <= n <= 1000"
   ]
  },
  {
   "cell_type": "code",
   "execution_count": null,
   "metadata": {},
   "outputs": [],
   "source": [
    "class Solution:\n",
    "    def sumZero(self, n: int) -> List[int]:\n",
    "        ans = []\n",
    "        \n",
    "        for i in range(1, n//2+1):\n",
    "          ans.append(i)\n",
    "          ans.append(-i)\n",
    "          \n",
    "        if n % 2 != 0:\n",
    "          ans.append(0)\n",
    "          \n",
    "        return ans"
   ]
  }
 ],
 "metadata": {
  "kernelspec": {
   "display_name": "Python 3",
   "language": "python",
   "name": "python3"
  },
  "language_info": {
   "codemirror_mode": {
    "name": "ipython",
    "version": 3
   },
   "file_extension": ".py",
   "mimetype": "text/x-python",
   "name": "python",
   "nbconvert_exporter": "python",
   "pygments_lexer": "ipython3",
   "version": "3.8.3"
  }
 },
 "nbformat": 4,
 "nbformat_minor": 4
}
