{
 "cells": [
  {
   "cell_type": "markdown",
   "metadata": {},
   "source": [
    "## 1360. Number of Days Between Two Dates\n",
    "\n",
    "Write a program to count the number of days between two dates.\n",
    "\n",
    "The two dates are given as strings, their format is YYYY-MM-DD as shown in the examples.\n",
    "\n",
    " \n",
    "\n",
    "Example 1:\n",
    "```\n",
    "Input: date1 = \"2019-06-29\", date2 = \"2019-06-30\"\n",
    "Output: 1\n",
    "```\n",
    "Example 2:\n",
    "```\n",
    "Input: date1 = \"2020-01-15\", date2 = \"2019-12-31\"\n",
    "Output: 15\n",
    "``` \n",
    "\n",
    "Constraints:\n",
    "\n",
    "The given dates are valid dates between the years 1971 and 2100."
   ]
  },
  {
   "cell_type": "code",
   "execution_count": null,
   "metadata": {},
   "outputs": [],
   "source": [
    "class Solution:\n",
    "    def daysBetweenDates(self, date1: str, date2: str) -> int:\n",
    "        d1 = datetime.datetime.strptime(date1, '%Y-%m-%d')\n",
    "        d2 = datetime.datetime.strptime(date2, '%Y-%m-%d')\n",
    "        \n",
    "        ans = abs(d1-d2).days\n",
    "        \n",
    "        return ans"
   ]
  }
 ],
 "metadata": {
  "kernelspec": {
   "display_name": "Python 3",
   "language": "python",
   "name": "python3"
  },
  "language_info": {
   "codemirror_mode": {
    "name": "ipython",
    "version": 3
   },
   "file_extension": ".py",
   "mimetype": "text/x-python",
   "name": "python",
   "nbconvert_exporter": "python",
   "pygments_lexer": "ipython3",
   "version": "3.8.3"
  }
 },
 "nbformat": 4,
 "nbformat_minor": 4
}
