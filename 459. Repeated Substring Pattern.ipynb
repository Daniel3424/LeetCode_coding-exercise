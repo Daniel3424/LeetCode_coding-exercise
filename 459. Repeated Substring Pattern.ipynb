{
 "cells": [
  {
   "cell_type": "markdown",
   "metadata": {},
   "source": [
    "## 459. Repeated Substring Pattern\n",
    "\n",
    "Given a non-empty string check if it can be constructed by taking a substring of it and appending multiple copies of the substring together. You may assume the given string consists of lowercase English letters only and its length will not exceed 10000.\n",
    "\n",
    " \n",
    "\n",
    "Example 1:\n",
    "```\n",
    "Input: \"abab\"\n",
    "Output: True\n",
    "Explanation: It's the substring \"ab\" twice.\n",
    "```\n",
    "Example 2:\n",
    "```\n",
    "Input: \"aba\"\n",
    "Output: False\n",
    "```\n",
    "Example 3:\n",
    "```\n",
    "Input: \"abcabcabcabc\"\n",
    "Output: True\n",
    "```\n",
    "Explanation: It's the substring \"abc\" four times. (And the substring \"abcabc\" twice.)"
   ]
  },
  {
   "cell_type": "code",
   "execution_count": null,
   "metadata": {},
   "outputs": [],
   "source": [
    "class Solution:\n",
    "    def repeatedSubstringPattern(self, s: str) -> bool:\n",
    "      return s in (s*2)[1:-1]"
   ]
  }
 ],
 "metadata": {
  "kernelspec": {
   "display_name": "Python 3",
   "language": "python",
   "name": "python3"
  },
  "language_info": {
   "codemirror_mode": {
    "name": "ipython",
    "version": 3
   },
   "file_extension": ".py",
   "mimetype": "text/x-python",
   "name": "python",
   "nbconvert_exporter": "python",
   "pygments_lexer": "ipython3",
   "version": "3.8.3"
  }
 },
 "nbformat": 4,
 "nbformat_minor": 4
}
