{
 "cells": [
  {
   "cell_type": "markdown",
   "metadata": {},
   "source": [
    "## 637. Average of Levels in Binary Tree\n",
    "\n",
    "Given a non-empty binary tree, return the average value of the nodes on each level in the form of an array.\n",
    "Example 1:\n",
    "```\n",
    "Input:\n",
    "    3\n",
    "   / \\\n",
    "  9  20\n",
    "    /  \\\n",
    "   15   7\n",
    "Output: [3, 14.5, 11]\n",
    "Explanation:\n",
    "The average value of nodes on level 0 is 3,  on level 1 is 14.5, and on level 2 is 11. Hence return [3, 14.5, 11].\n",
    "```\n",
    "Note:\n",
    "The range of node's value is in the range of 32-bit signed integer."
   ]
  },
  {
   "cell_type": "code",
   "execution_count": null,
   "metadata": {},
   "outputs": [],
   "source": [
    "# Definition for a binary tree node.\n",
    "# class TreeNode:\n",
    "#     def __init__(self, val=0, left=None, right=None):\n",
    "#         self.val = val\n",
    "#         self.left = left\n",
    "#         self.right = right\n",
    "class Solution:\n",
    "    def averageOfLevels(self, root: TreeNode) -> List[float]:\n",
    "        ans = []\n",
    "        if not root:\n",
    "          return ans\n",
    "        \n",
    "        root_ = [root]\n",
    "        while root_:\n",
    "          ans.append(sum([node.val for node in root_])/len(root_))\n",
    "          root_ = [kid for node in root_ for kid in (node.left, node.right) if kid]\n",
    "        return ans"
   ]
  }
 ],
 "metadata": {
  "kernelspec": {
   "display_name": "Python 3",
   "language": "python",
   "name": "python3"
  },
  "language_info": {
   "codemirror_mode": {
    "name": "ipython",
    "version": 3
   },
   "file_extension": ".py",
   "mimetype": "text/x-python",
   "name": "python",
   "nbconvert_exporter": "python",
   "pygments_lexer": "ipython3",
   "version": "3.8.3"
  }
 },
 "nbformat": 4,
 "nbformat_minor": 4
}
