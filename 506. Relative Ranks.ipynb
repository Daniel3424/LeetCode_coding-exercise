{
 "cells": [
  {
   "cell_type": "markdown",
   "metadata": {},
   "source": [
    "## 506. Relative Ranks\n",
    "\n",
    "Given scores of N athletes, find their relative ranks and the people with the top three highest scores, who will be awarded medals: \"Gold Medal\", \"Silver Medal\" and \"Bronze Medal\".\n",
    "```\n",
    "Example 1:\n",
    "Input: [5, 4, 3, 2, 1]\n",
    "Output: [\"Gold Medal\", \"Silver Medal\", \"Bronze Medal\", \"4\", \"5\"]\n",
    "Explanation: The first three athletes got the top three highest scores, so they got \"Gold Medal\", \"Silver Medal\" and \"Bronze Medal\". \n",
    "For the left two athletes, you just need to output their relative ranks according to their scores.\n",
    "```\n",
    "Note:\n",
    "N is a positive integer and won't exceed 10,000.\n",
    "All the scores of athletes are guaranteed to be unique."
   ]
  },
  {
   "cell_type": "code",
   "execution_count": null,
   "metadata": {},
   "outputs": [],
   "source": [
    "class Solution:\n",
    "    def findRelativeRanks(self, nums: List[int]) -> List[str]:\n",
    "        sorted_num = sorted(nums,reverse = True)\n",
    "        ans = []\n",
    "        medal = [\"Gold Medal\", \"Silver Medal\", \"Bronze Medal\"]\n",
    "        rank = {}\n",
    "        \n",
    "        for i in range(len(sorted_num)):\n",
    "          rank[sorted_num[i]] = i\n",
    "        \n",
    "        for i in range(len(nums)):\n",
    "          if rank[nums[i]] == 0:\n",
    "            ans.append(\"Gold Medal\")\n",
    "          elif rank[nums[i]] == 1:\n",
    "            ans.append(\"Silver Medal\")\n",
    "          elif rank[nums[i]] == 2:\n",
    "            ans.append(\"Bronze Medal\")\n",
    "          else:\n",
    "            ans.append(str(rank[nums[i]]+1))\n",
    "        return ans"
   ]
  }
 ],
 "metadata": {
  "kernelspec": {
   "display_name": "Python 3",
   "language": "python",
   "name": "python3"
  },
  "language_info": {
   "codemirror_mode": {
    "name": "ipython",
    "version": 3
   },
   "file_extension": ".py",
   "mimetype": "text/x-python",
   "name": "python",
   "nbconvert_exporter": "python",
   "pygments_lexer": "ipython3",
   "version": "3.8.3"
  }
 },
 "nbformat": 4,
 "nbformat_minor": 4
}
