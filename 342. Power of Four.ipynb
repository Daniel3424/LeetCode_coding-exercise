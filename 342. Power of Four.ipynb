{
 "cells": [
  {
   "cell_type": "markdown",
   "metadata": {},
   "source": [
    "## 342. Power of Four\n",
    "\n",
    "Given an integer n, return true if it is a power of four. Otherwise, return false.\n",
    "\n",
    "An integer n is a power of four, if there exists an integer x such that n == 4x.\n",
    "\n",
    " \n",
    "\n",
    "Example 1:\n",
    "```\n",
    "Input: n = 16\n",
    "Output: true\n",
    "```\n",
    "Example 2:\n",
    "```\n",
    "Input: n = 5\n",
    "Output: false\n",
    "```\n",
    "Example 3:\n",
    "```\n",
    "Input: n = 1\n",
    "Output: true\n",
    "``` \n",
    "\n",
    "Constraints:\n",
    "\n",
    "-231 <= n <= 231 - 1"
   ]
  },
  {
   "cell_type": "code",
   "execution_count": null,
   "metadata": {},
   "outputs": [],
   "source": [
    "class Solution:\n",
    "    def isPowerOfFour(self, n: int) -> bool:\n",
    "        if n <= 0:\n",
    "          return False\n",
    "        ans = 0\n",
    "        while n > 1 and ans == 0:\n",
    "          ans = n % 4\n",
    "          n = n / 4\n",
    "          if (n < 1 or ans != 0):\n",
    "            return False\n",
    "          \n",
    "        return True"
   ]
  }
 ],
 "metadata": {
  "kernelspec": {
   "display_name": "Python 3",
   "language": "python",
   "name": "python3"
  },
  "language_info": {
   "codemirror_mode": {
    "name": "ipython",
    "version": 3
   },
   "file_extension": ".py",
   "mimetype": "text/x-python",
   "name": "python",
   "nbconvert_exporter": "python",
   "pygments_lexer": "ipython3",
   "version": "3.8.3"
  }
 },
 "nbformat": 4,
 "nbformat_minor": 4
}
