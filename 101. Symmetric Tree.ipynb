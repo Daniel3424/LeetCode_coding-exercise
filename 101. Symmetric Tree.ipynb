{
 "cells": [
  {
   "cell_type": "markdown",
   "metadata": {},
   "source": [
    "## 101. Symmetric Tree\n",
    "\n",
    "Given a binary tree, check whether it is a mirror of itself (ie, symmetric around its center).\n",
    "\n",
    "For example, this binary tree [1,2,2,3,4,4,3] is symmetric:\n",
    "```\n",
    "    1\n",
    "   / \\\n",
    "  2   2\n",
    " / \\ / \\\n",
    "3  4 4  3\n",
    "``` \n",
    "\n",
    "But the following [1,2,2,null,3,null,3] is not:\n",
    "```\n",
    "    1\n",
    "   / \\\n",
    "  2   2\n",
    "   \\   \\\n",
    "   3    3\n",
    "``` \n",
    "\n",
    "Follow up: Solve it both recursively and iteratively."
   ]
  },
  {
   "cell_type": "code",
   "execution_count": null,
   "metadata": {},
   "outputs": [],
   "source": [
    "# Definition for a binary tree node.\n",
    "# class TreeNode:\n",
    "#     def __init__(self, val=0, left=None, right=None):\n",
    "#         self.val = val\n",
    "#         self.left = left\n",
    "#         self.right = right\n",
    "class Solution:\n",
    "    def isSymmetric(self, root: TreeNode) -> bool:\n",
    "        if root is None: \n",
    "          return True\n",
    "        \n",
    "        def dfs_left(root, res):\n",
    "            if root is None:\n",
    "                res.append(None)\n",
    "                return\n",
    "            res.append(root.val)\n",
    "            dfs_left(root.left, res)\n",
    "            dfs_left(root.right, res)\n",
    "            return res\n",
    "          \n",
    "        def dfs_right(root, res):\n",
    "            if root is None: \n",
    "                res.append(None)\n",
    "                return\n",
    "            res.append(root.val)\n",
    "            dfs_right(root.right, res)\n",
    "            dfs_right(root.left, res)\n",
    "            return res\n",
    "          \n",
    "        return dfs_left(root.left, [])==dfs_right(root.right, [])"
   ]
  }
 ],
 "metadata": {
  "kernelspec": {
   "display_name": "Python 3",
   "language": "python",
   "name": "python3"
  },
  "language_info": {
   "codemirror_mode": {
    "name": "ipython",
    "version": 3
   },
   "file_extension": ".py",
   "mimetype": "text/x-python",
   "name": "python",
   "nbconvert_exporter": "python",
   "pygments_lexer": "ipython3",
   "version": "3.8.3"
  }
 },
 "nbformat": 4,
 "nbformat_minor": 4
}
