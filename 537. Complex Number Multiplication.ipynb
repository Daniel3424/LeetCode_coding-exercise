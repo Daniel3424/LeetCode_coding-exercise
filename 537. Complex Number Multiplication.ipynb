{
 "cells": [
  {
   "cell_type": "markdown",
   "metadata": {},
   "source": [
    "## 537. Complex Number Multiplication\n",
    "\n",
    "Given two strings representing two complex numbers.\n",
    "\n",
    "You need to return a string representing their multiplication. Note i2 = -1 according to the definition.\n",
    "\n",
    "Example 1:\n",
    "```\n",
    "Input: \"1+1i\", \"1+1i\"\n",
    "Output: \"0+2i\"\n",
    "Explanation: (1 + i) * (1 + i) = 1 + i2 + 2 * i = 2i, and you need convert it to the form of 0+2i.\n",
    "```\n",
    "Example 2:\n",
    "```\n",
    "Input: \"1+-1i\", \"1+-1i\"\n",
    "Output: \"0+-2i\"\n",
    "Explanation: (1 - i) * (1 - i) = 1 + i2 - 2 * i = -2i, and you need convert it to the form of 0+-2i.\n",
    "```\n",
    "Note:\n",
    "\n",
    "The input strings will not have extra blank.\n",
    "The input strings will be given in the form of a+bi, where the integer a and b will both belong to the range of [-100, 100]. And the output should be also in this form."
   ]
  },
  {
   "cell_type": "code",
   "execution_count": null,
   "metadata": {},
   "outputs": [],
   "source": [
    "class Solution:\n",
    "    def complexNumberMultiply(self, a: str, b: str) -> str:\n",
    "        ra, ia = map(int, a[0:-1].split(\"+\"))\n",
    "        rb, ib = map(int, b[0:-1].split(\"+\"))\n",
    "        \n",
    "        return str(ra*rb-ia*ib) + \"+\" + str(ra*ib+rb*ia) + \"i\""
   ]
  }
 ],
 "metadata": {
  "kernelspec": {
   "display_name": "Python 3",
   "language": "python",
   "name": "python3"
  },
  "language_info": {
   "codemirror_mode": {
    "name": "ipython",
    "version": 3
   },
   "file_extension": ".py",
   "mimetype": "text/x-python",
   "name": "python",
   "nbconvert_exporter": "python",
   "pygments_lexer": "ipython3",
   "version": "3.8.3"
  }
 },
 "nbformat": 4,
 "nbformat_minor": 4
}
