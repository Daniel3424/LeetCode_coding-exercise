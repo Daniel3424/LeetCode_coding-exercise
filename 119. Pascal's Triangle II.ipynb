{
 "cells": [
  {
   "attachments": {
    "image.png": {
     "image/png": "[encoded data removed]"
    }
   },
   "cell_type": "markdown",
   "metadata": {},
   "source": [
    "## 119. Pascal's Triangle II\n",
    "\n",
    "Given an integer rowIndex, return the rowIndexth row of the Pascal's triangle.\n",
    "\n",
    "Notice that the row index starts from 0.\n",
    "\n",
    "\n",
    "In Pascal's triangle, each number is the sum of the two numbers directly above it.\n",
    "\n",
    "Follow up:\n",
    "\n",
    "Could you optimize your algorithm to use only O(k) extra space?\n",
    "![image.png](attachment:image.png)\n",
    " \n",
    "\n",
    "Example 1:\n",
    "```\n",
    "Input: rowIndex = 3\n",
    "Output: [1,3,3,1]\n",
    "```\n",
    "Example 2:\n",
    "```\n",
    "Input: rowIndex = 0\n",
    "Output: [1]\n",
    "```\n",
    "Example 3:\n",
    "```\n",
    "Input: rowIndex = 1\n",
    "Output: [1,1]\n",
    "``` \n",
    "\n",
    "Constraints:\n",
    "\n",
    "0 <= rowIndex <= 33"
   ]
  },
  {
   "cell_type": "code",
   "execution_count": null,
   "metadata": {},
   "outputs": [],
   "source": [
    "class Solution:\n",
    "    def getRow(self, rowIndex: int) -> List[int]:\n",
    "        ans = [1] + [0] * rowIndex\n",
    "        for i in range(rowIndex):\n",
    "          ans[0] = 1\n",
    "          for j in range(i+1, 0, -1):\n",
    "            ans[j] = ans[j] + ans[j-1]\n",
    "            \n",
    "        return ans"
   ]
  }
 ],
 "metadata": {
  "kernelspec": {
   "display_name": "Python 3",
   "language": "python",
   "name": "python3"
  },
  "language_info": {
   "codemirror_mode": {
    "name": "ipython",
    "version": 3
   },
   "file_extension": ".py",
   "mimetype": "text/x-python",
   "name": "python",
   "nbconvert_exporter": "python",
   "pygments_lexer": "ipython3",
   "version": "3.8.3"
  }
 },
 "nbformat": 4,
 "nbformat_minor": 4
}
