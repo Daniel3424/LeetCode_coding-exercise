{
 "cells": [
  {
   "cell_type": "markdown",
   "metadata": {},
   "source": [
    "## 1385. Find the Distance Value Between Two Arrays\n",
    "\n",
    "Given two integer arrays arr1 and arr2, and the integer d, return the distance value between the two arrays.\n",
    "\n",
    "The distance value is defined as the number of elements arr1[i] such that there is not any element arr2[j] where |arr1[i]-arr2[j]| <= d.\n",
    "\n",
    " \n",
    "\n",
    "Example 1:\n",
    "```\n",
    "Input: arr1 = [4,5,8], arr2 = [10,9,1,8], d = 2\n",
    "Output: 2\n",
    "Explanation: \n",
    "For arr1[0]=4 we have: \n",
    "|4-10|=6 > d=2 \n",
    "|4-9|=5 > d=2 \n",
    "|4-1|=3 > d=2 \n",
    "|4-8|=4 > d=2 \n",
    "For arr1[1]=5 we have: \n",
    "|5-10|=5 > d=2 \n",
    "|5-9|=4 > d=2 \n",
    "|5-1|=4 > d=2 \n",
    "|5-8|=3 > d=2\n",
    "For arr1[2]=8 we have:\n",
    "|8-10|=2 <= d=2\n",
    "|8-9|=1 <= d=2\n",
    "|8-1|=7 > d=2\n",
    "|8-8|=0 <= d=2\n",
    "```\n",
    "Example 2:\n",
    "```\n",
    "Input: arr1 = [1,4,2,3], arr2 = [-4,-3,6,10,20,30], d = 3\n",
    "Output: 2\n",
    "```\n",
    "Example 3:\n",
    "```\n",
    "Input: arr1 = [2,1,100,3], arr2 = [-5,-2,10,-3,7], d = 6\n",
    "Output: 1\n",
    "``` \n",
    "\n",
    "Constraints:\n",
    "\n",
    "1 <= arr1.length, arr2.length <= 500\n",
    "-10^3 <= arr1[i], arr2[j] <= 10^3\n",
    "0 <= d <= 100"
   ]
  },
  {
   "cell_type": "code",
   "execution_count": null,
   "metadata": {},
   "outputs": [],
   "source": [
    "class Solution:\n",
    "    def findTheDistanceValue(self, arr1: List[int], arr2: List[int], d: int) -> int:\n",
    "        return sum(all(abs(x - y) > d for y in arr2) for x in arr1)"
   ]
  }
 ],
 "metadata": {
  "kernelspec": {
   "display_name": "Python 3",
   "language": "python",
   "name": "python3"
  },
  "language_info": {
   "codemirror_mode": {
    "name": "ipython",
    "version": 3
   },
   "file_extension": ".py",
   "mimetype": "text/x-python",
   "name": "python",
   "nbconvert_exporter": "python",
   "pygments_lexer": "ipython3",
   "version": "3.8.3"
  }
 },
 "nbformat": 4,
 "nbformat_minor": 4
}
