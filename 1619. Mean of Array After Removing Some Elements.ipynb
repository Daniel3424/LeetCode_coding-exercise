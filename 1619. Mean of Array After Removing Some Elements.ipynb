{
 "cells": [
  {
   "cell_type": "markdown",
   "metadata": {},
   "source": [
    "## 1619. Mean of Array After Removing Some Elements\n",
    "\n",
    "Given an integer array arr, return the mean of the remaining integers after removing the smallest 5% and the largest 5% of the elements.\n",
    "\n",
    "Answers within 10-5 of the actual answer will be considered accepted.\n",
    "\n",
    " \n",
    "\n",
    "Example 1:\n",
    "```\n",
    "Input: arr = [1,2,2,2,2,2,2,2,2,2,2,2,2,2,2,2,2,2,2,3]\n",
    "Output: 2.00000\n",
    "Explanation: After erasing the minimum and the maximum values of this array, all elements are equal to 2, so the mean is 2.\n",
    "```\n",
    "Example 2:\n",
    "```\n",
    "Input: arr = [6,2,7,5,1,2,0,3,10,2,5,0,5,5,0,8,7,6,8,0]\n",
    "Output: 4.00000\n",
    "```\n",
    "Example 3:\n",
    "```\n",
    "Input: arr = [6,0,7,0,7,5,7,8,3,4,0,7,8,1,6,8,1,1,2,4,8,1,9,5,4,3,8,5,10,8,6,6,1,0,6,10,8,2,3,4]\n",
    "Output: 4.77778\n",
    "```\n",
    "Example 4:\n",
    "```\n",
    "Input: arr = [9,7,8,7,7,8,4,4,6,8,8,7,6,8,8,9,2,6,0,0,1,10,8,6,3,3,5,1,10,9,0,7,10,0,10,4,1,10,6,9,3,6,0,0,2,7,0,6,7,2,9,7,7,3,0,1,6,1,10,3]\n",
    "Output: 5.27778\n",
    "```\n",
    "Example 5:\n",
    "```\n",
    "Input: arr = [4,8,4,10,0,7,1,3,7,8,8,3,4,1,6,2,1,1,8,0,9,8,0,3,9,10,3,10,1,10,7,3,2,1,4,9,10,7,6,4,0,8,5,1,2,1,6,2,5,0,7,10,9,10,3,7,10,5,8,5,7,6,7,6,10,9,5,10,5,5,7,2,10,7,7,8,2,0,1,1]\n",
    "Output: 5.29167\n",
    "``` \n",
    "\n",
    "Constraints:\n",
    "\n",
    "20 <= arr.length <= 1000\n",
    "arr.length is a multiple of 20.\n",
    "0 <= arr[i] <= 105"
   ]
  },
  {
   "cell_type": "code",
   "execution_count": null,
   "metadata": {},
   "outputs": [],
   "source": [
    "class Solution:\n",
    "    def trimMean(self, arr: List[int]) -> float:\n",
    "        f_per = int(len(arr) * 0.05)\n",
    "        sort = sorted(arr)\n",
    "        len_ = len(arr)\n",
    "        ans = sort[f_per:len_ - f_per]\n",
    "        \n",
    "        return sum(ans) / len(ans)"
   ]
  }
 ],
 "metadata": {
  "kernelspec": {
   "display_name": "Python 3",
   "language": "python",
   "name": "python3"
  },
  "language_info": {
   "codemirror_mode": {
    "name": "ipython",
    "version": 3
   },
   "file_extension": ".py",
   "mimetype": "text/x-python",
   "name": "python",
   "nbconvert_exporter": "python",
   "pygments_lexer": "ipython3",
   "version": "3.8.3"
  }
 },
 "nbformat": 4,
 "nbformat_minor": 4
}
